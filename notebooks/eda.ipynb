{
 "cells": [
  {
   "cell_type": "code",
   "execution_count": 1,
   "metadata": {},
   "outputs": [],
   "source": [
    "import os \n",
    "os.chdir(\"../\")"
   ]
  },
  {
   "cell_type": "code",
   "execution_count": 3,
   "metadata": {},
   "outputs": [],
   "source": [
    "import pandas as pd \n",
    "from scripts.eda import print_statistics\n",
    "from scripts.eda import visualize_distribution\n",
    "\n"
   ]
  },
  {
   "cell_type": "code",
   "execution_count": 4,
   "metadata": {},
   "outputs": [],
   "source": [
    "df = pd.read_csv(\"data/data.csv\")"
   ]
  },
  {
   "cell_type": "code",
   "execution_count": null,
   "metadata": {},
   "outputs": [],
   "source": [
    "df.info()"
   ]
  },
  {
   "cell_type": "code",
   "execution_count": null,
   "metadata": {},
   "outputs": [],
   "source": [
    "df.describe()"
   ]
  },
  {
   "cell_type": "code",
   "execution_count": null,
   "metadata": {},
   "outputs": [],
   "source": [
    "print_statistics(df, \"Amount\")"
   ]
  },
  {
   "cell_type": "code",
   "execution_count": null,
   "metadata": {},
   "outputs": [],
   "source": [
    "print_statistics(df, \"Value\")"
   ]
  },
  {
   "cell_type": "code",
   "execution_count": null,
   "metadata": {},
   "outputs": [],
   "source": [
    "# Visualize distribution of a numerical column\n",
    "\n",
    "\n",
    "visualize_distribution(df, 'Amount')\n"
   ]
  },
  {
   "cell_type": "code",
   "execution_count": null,
   "metadata": {},
   "outputs": [],
   "source": [
    "visualize_distribution(df, 'Value')"
   ]
  },
  {
   "cell_type": "code",
   "execution_count": 14,
   "metadata": {},
   "outputs": [],
   "source": [
    "import matplotlib.pyplot as plt\n",
    "import seaborn as sns\n",
    "\n",
    "# Function to plot the count of each category in a bar plot\n",
    "def plot_categorical_distribution(df, column):\n",
    "    plt.figure(figsize=(10, 6))\n",
    "    \n",
    "    # Plotting the count of each category\n",
    "    sns.countplot(x=df[column], palette='Set2', order=df[column].value_counts().index)\n",
    "    \n",
    "    plt.title(f\"Distribution of {column}\")\n",
    "    plt.xlabel(column)\n",
    "    plt.ylabel('Count')\n",
    "    plt.xticks(rotation=45)\n",
    "    plt.show()\n",
    "\n",
    "# Function to plot a pie chart for categorical feature distribution\n",
    "def plot_pie_chart(df, column):\n",
    "    plt.figure(figsize=(8, 8))\n",
    "    \n",
    "    # Pie chart showing percentage distribution of categories\n",
    "    df[column].value_counts().plot.pie(autopct='%1.1f%%', colors=sns.color_palette('Set3'), startangle=90)\n",
    "    \n",
    "    plt.title(f\"Pie Chart of {column}\")\n",
    "    plt.ylabel('')  # Hides the default y-label\n",
    "    plt.show()\n",
    "\n",
    "# Main function to visualize the distribution using both bar plot and pie chart\n",
    "def visualize_categorical_distribution(df, column):\n",
    "    print(f\"Visualizing the distribution of column: {column}\")\n",
    "    \n",
    "    # Plotting bar plot and pie chart\n",
    "    plot_categorical_distribution(df, column)\n",
    "    plot_pie_chart(df, column)\n"
   ]
  },
  {
   "cell_type": "code",
   "execution_count": 17,
   "metadata": {},
   "outputs": [
    {
     "data": {
      "text/plain": [
       "Index(['TransactionId', 'BatchId', 'AccountId', 'SubscriptionId', 'CustomerId',\n",
       "       'CurrencyCode', 'CountryCode', 'ProviderId', 'ProductId',\n",
       "       'ProductCategory', 'ChannelId', 'Amount', 'Value',\n",
       "       'TransactionStartTime', 'PricingStrategy', 'FraudResult'],\n",
       "      dtype='object')"
      ]
     },
     "execution_count": 17,
     "metadata": {},
     "output_type": "execute_result"
    }
   ],
   "source": [
    "df.columns"
   ]
  },
  {
   "cell_type": "code",
   "execution_count": null,
   "metadata": {},
   "outputs": [],
   "source": []
  },
  {
   "cell_type": "code",
   "execution_count": null,
   "metadata": {},
   "outputs": [],
   "source": []
  },
  {
   "cell_type": "code",
   "execution_count": null,
   "metadata": {},
   "outputs": [],
   "source": [
    "import seaborn as sns\n",
    "import matplotlib.pyplot as plt\n",
    "import pandas as pd\n",
    "\n",
    "# Function to generate a heatmap for the correlation between two columns\n",
    "def plot_correlation_heatmap(df, column1, column2):\n",
    "    plt.figure(figsize=(6, 4))\n",
    "    \n",
    "    # Calculating the correlation\n",
    "    correlation_matrix = df[[column1, column2]].corr()\n",
    "    \n",
    "    # Creating heatmap\n",
    "    sns.heatmap(correlation_matrix, annot=True, cmap='coolwarm', vmin=-1, vmax=1, cbar=True)\n",
    "    \n",
    "    plt.title(f\"Correlation Heatmap between {column1} and {column2}\")\n",
    "    plt.show()\n",
    "\n",
    "# Function to generate scatter plot to visualize relationship\n",
    "def plot_scatter(df, column1, column2):\n",
    "    plt.figure(figsize=(8, 6))\n",
    "    \n",
    "    # Scatter plot with regression line\n",
    "    sns.regplot(x=column1, y=column2, data=df, scatter_kws={'color':'blue'}, line_kws={'color':'red'})\n",
    "    \n",
    "    plt.title(f\"Scatter Plot of {column1} vs {column2}\")\n",
    "    plt.xlabel(column1)\n",
    "    plt.ylabel(column2)\n",
    "    plt.show()\n",
    "\n",
    "# Main function to visualize both the correlation heatmap and scatter plot\n",
    "def visualize_correlation(df, column1='Amount', column2='Value'):\n",
    "    print(f\"Visualizing correlation between {column1} and {column2}\")\n",
    "    \n",
    "    # Plot heatmap and scatter plot\n",
    "    plot_correlation_heatmap(df, column1, column2)\n",
    "    plot_scatter(df, column1, column2)\n"
   ]
  },
  {
   "cell_type": "code",
   "execution_count": null,
   "metadata": {},
   "outputs": [],
   "source": [
    "# Assuming df is your DataFrame with 'Amount' and 'Value' columns\n",
    "visualize_correlation(df)\n"
   ]
  },
  {
   "cell_type": "code",
   "execution_count": null,
   "metadata": {},
   "outputs": [],
   "source": [
    "import seaborn as sns\n",
    "import matplotlib.pyplot as plt\n",
    "\n",
    "# Function to generate box plot for outlier detection\n",
    "def plot_outlier_detection(df, column):\n",
    "    plt.figure(figsize=(8, 6))\n",
    "    \n",
    "    # Box plot to visualize outliers\n",
    "    sns.boxplot(x=df[column], color='cyan')\n",
    "    \n",
    "    plt.title(f\"Box Plot for Outlier Detection in {column}\")\n",
    "    plt.xlabel(column)\n",
    "    plt.show()\n",
    "\n",
    "# Main function to visualize outliers in multiple columns\n",
    "def visualize_outliers(df, columns):\n",
    "    print(f\"Visualizing outliers for columns: {columns}\")\n",
    "    \n",
    "    # Loop through each column and generate box plots\n",
    "    for column in columns:\n",
    "        plot_outlier_detection(df, column)\n"
   ]
  },
  {
   "cell_type": "code",
   "execution_count": null,
   "metadata": {},
   "outputs": [],
   "source": [
    "# Assuming df is your DataFrame with numerical columns 'Amount' and 'Value'\n",
    "visualize_outliers(df, ['Amount', 'Value'])\n"
   ]
  },
  {
   "cell_type": "code",
   "execution_count": 19,
   "metadata": {},
   "outputs": [
    {
     "name": "stdout",
     "output_type": "stream",
     "text": [
      "visualizing the BatchId\n",
      "Visualizing the distribution of column: BatchId\n"
     ]
    },
    {
     "name": "stderr",
     "output_type": "stream",
     "text": [
      "C:\\Users\\windows 10\\AppData\\Local\\Temp\\ipykernel_17876\\354488510.py:9: FutureWarning: \n",
      "\n",
      "Passing `palette` without assigning `hue` is deprecated and will be removed in v0.14.0. Assign the `x` variable to `hue` and set `legend=False` for the same effect.\n",
      "\n",
      "  sns.countplot(x=df[column], palette='Set2', order=df[column].value_counts().index)\n"
     ]
    }
   ],
   "source": [
    "# Visualize distribution of a categorical column\n",
    "columns = ['BatchId','SubscriptionId',\n",
    "       'CurrencyCode', 'CountryCode', 'ProviderId', 'ProductId',\n",
    "       'ProductCategory', 'ChannelId', \n",
    "       'PricingStrategy', 'FraudResult']\n",
    "for col in columns :\n",
    "    print(f\"visualizing the {col}\")\n",
    "    visualize_categorical_distribution(df, col)\n"
   ]
  }
 ],
 "metadata": {
  "kernelspec": {
   "display_name": "myenv",
   "language": "python",
   "name": "python3"
  },
  "language_info": {
   "codemirror_mode": {
    "name": "ipython",
    "version": 3
   },
   "file_extension": ".py",
   "mimetype": "text/x-python",
   "name": "python",
   "nbconvert_exporter": "python",
   "pygments_lexer": "ipython3",
   "version": "3.12.6"
  }
 },
 "nbformat": 4,
 "nbformat_minor": 2
}
